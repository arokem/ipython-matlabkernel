{
 "metadata": {
  "name": "",
  "signature": "sha256:9a98aacffc1d6ee7ee25b86bfed830ac8f4a60c5c66c803590ace6b2335f4a0c"
 },
 "nbformat": 3,
 "nbformat_minor": 0,
 "worksheets": [
  {
   "cells": [
    {
     "cell_type": "heading",
     "level": 1,
     "metadata": {},
     "source": [
      "A \"Native\" Matlab kernel for IPython"
     ]
    },
    {
     "cell_type": "markdown",
     "metadata": {},
     "source": [
      "This is a quick hack that simply prepends `%%matlab` to every cell and requires using the [IPython Matlab magic](https://github.com/arokem/python-matlab-bridge).\n",
      "\n",
      "To make this work, run:\n",
      "\n",
      "    ipython profile create matlabkernel\n",
      "    \n",
      "Then put the accompanying `matlabkernel.py` file in the `startup/` directory of the above profile directory, and run IPython with\n",
      "\n",
      "    ipython <app> --profile matlabkernel\n",
      "    \n",
      "where `<app>` can be `notebook`, `qtconsole`, or nothing for the terminal client.\n",
      "\n",
      "Written in 5 minutes by Ariel Rokem @ Stanford, Feb 19 2014, based on [this](https://github.com/fperez/ipython-rkernel)."
     ]
    },
    {
     "cell_type": "markdown",
     "metadata": {},
     "source": [
      "Simple variable assignment:"
     ]
    },
    {
     "cell_type": "code",
     "collapsed": false,
     "input": [
      "t = linspace(0,2*pi,100);\n",
      "a = sin(t);\n",
      "disp(a(1:10));"
     ],
     "language": "python",
     "metadata": {},
     "outputs": [
      {
       "metadata": {},
       "output_type": "display_data",
       "text": [
        "  Columns 1 through 7\n",
        "\n",
        "         0    0.0634    0.1266    0.1893    0.2511    0.3120    0.3717\n",
        "\n",
        "  Columns 8 through 10\n",
        "\n",
        "    0.4298    0.4862    0.5406\n",
        "\n"
       ]
      }
     ],
     "prompt_number": 3
    },
    {
     "cell_type": "markdown",
     "metadata": {},
     "source": [
      "Simple plots"
     ]
    },
    {
     "cell_type": "code",
     "collapsed": false,
     "input": [
      "plot(a)\n",
      "grid on"
     ],
     "language": "python",
     "metadata": {},
     "outputs": [
      {
       "metadata": {},
       "output_type": "display_data",
       "png": "[encoded data removed]"
      }
     ],
     "prompt_number": 4
    },
    {
     "cell_type": "code",
     "collapsed": false,
     "input": [],
     "language": "python",
     "metadata": {},
     "outputs": []
    }
   ],
   "metadata": {}
  }
 ]
}